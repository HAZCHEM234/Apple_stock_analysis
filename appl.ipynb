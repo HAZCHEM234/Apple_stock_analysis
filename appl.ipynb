{
 "cells": [
  {
   "cell_type": "markdown",
   "metadata": {},
   "source": [
    "# Data Collection"
   ]
  },
  {
   "cell_type": "markdown",
   "metadata": {},
   "source": [
    "In this notebook, I will collect data from Yahoo Finance.\n",
    "\n",
    "The Yahoo Finance API (YF API) provides access to stock quotes, historical market data, company financials, currency exchange rates, and market news."
   ]
  },
  {
   "cell_type": "code",
   "execution_count": 23,
   "metadata": {},
   "outputs": [
    {
     "name": "stdout",
     "output_type": "stream",
     "text": [
      "Requirement already satisfied: yfinance in c:\\python311\\lib\\site-packages (0.2.40)\n",
      "Requirement already satisfied: pandas>=1.3.0 in c:\\python311\\lib\\site-packages (from yfinance) (2.2.2)\n",
      "Requirement already satisfied: numpy>=1.16.5 in c:\\python311\\lib\\site-packages (from yfinance) (1.25.1)\n",
      "Requirement already satisfied: requests>=2.31 in c:\\python311\\lib\\site-packages (from yfinance) (2.31.0)\n",
      "Requirement already satisfied: multitasking>=0.0.7 in c:\\python311\\lib\\site-packages (from yfinance) (0.0.11)\n",
      "Requirement already satisfied: lxml>=4.9.1 in c:\\python311\\lib\\site-packages (from yfinance) (5.2.2)\n",
      "Requirement already satisfied: platformdirs>=2.0.0 in c:\\python311\\lib\\site-packages (from yfinance) (4.2.2)\n",
      "Requirement already satisfied: pytz>=2022.5 in c:\\python311\\lib\\site-packages (from yfinance) (2023.3)\n",
      "Requirement already satisfied: frozendict>=2.3.4 in c:\\python311\\lib\\site-packages (from yfinance) (2.4.4)\n",
      "Requirement already satisfied: peewee>=3.16.2 in c:\\python311\\lib\\site-packages (from yfinance) (3.17.5)\n",
      "Requirement already satisfied: beautifulsoup4>=4.11.1 in c:\\python311\\lib\\site-packages (from yfinance) (4.12.3)\n",
      "Requirement already satisfied: html5lib>=1.1 in c:\\python311\\lib\\site-packages (from yfinance) (1.1)\n",
      "Requirement already satisfied: soupsieve>1.2 in c:\\python311\\lib\\site-packages (from beautifulsoup4>=4.11.1->yfinance) (2.5)\n",
      "Requirement already satisfied: six>=1.9 in c:\\python311\\lib\\site-packages (from html5lib>=1.1->yfinance) (1.16.0)\n",
      "Requirement already satisfied: webencodings in c:\\python311\\lib\\site-packages (from html5lib>=1.1->yfinance) (0.5.1)\n",
      "Requirement already satisfied: python-dateutil>=2.8.2 in c:\\python311\\lib\\site-packages (from pandas>=1.3.0->yfinance) (2.8.2)\n",
      "Requirement already satisfied: tzdata>=2022.7 in c:\\python311\\lib\\site-packages (from pandas>=1.3.0->yfinance) (2023.3)\n",
      "Requirement already satisfied: charset-normalizer<4,>=2 in c:\\python311\\lib\\site-packages (from requests>=2.31->yfinance) (3.2.0)\n",
      "Requirement already satisfied: idna<4,>=2.5 in c:\\python311\\lib\\site-packages (from requests>=2.31->yfinance) (3.4)\n",
      "Requirement already satisfied: urllib3<3,>=1.21.1 in c:\\python311\\lib\\site-packages (from requests>=2.31->yfinance) (2.0.4)\n",
      "Requirement already satisfied: certifi>=2017.4.17 in c:\\python311\\lib\\site-packages (from requests>=2.31->yfinance) (2023.7.22)\n"
     ]
    }
   ],
   "source": [
    "!pip install yfinance"
   ]
  },
  {
   "cell_type": "markdown",
   "metadata": {},
   "source": [
    "Installing requiere libraries\n",
    "\n",
    "* Pandas\n",
    "* yfinnance"
   ]
  },
  {
   "cell_type": "code",
   "execution_count": 24,
   "metadata": {},
   "outputs": [],
   "source": [
    "import yfinance as yf\n",
    "import pandas as pd"
   ]
  },
  {
   "cell_type": "markdown",
   "metadata": {},
   "source": [
    "Download the stock performance from 2018 to 2023"
   ]
  },
  {
   "cell_type": "code",
   "execution_count": 17,
   "metadata": {},
   "outputs": [
    {
     "name": "stderr",
     "output_type": "stream",
     "text": [
      "[*********************100%%**********************]  1 of 1 completed\n"
     ]
    },
    {
     "data": {
      "text/html": [
       "<div>\n",
       "<style scoped>\n",
       "    .dataframe tbody tr th:only-of-type {\n",
       "        vertical-align: middle;\n",
       "    }\n",
       "\n",
       "    .dataframe tbody tr th {\n",
       "        vertical-align: top;\n",
       "    }\n",
       "\n",
       "    .dataframe thead th {\n",
       "        text-align: right;\n",
       "    }\n",
       "</style>\n",
       "<table border=\"1\" class=\"dataframe\">\n",
       "  <thead>\n",
       "    <tr style=\"text-align: right;\">\n",
       "      <th></th>\n",
       "      <th>Open</th>\n",
       "      <th>High</th>\n",
       "      <th>Low</th>\n",
       "      <th>Close</th>\n",
       "      <th>Adj Close</th>\n",
       "      <th>Volume</th>\n",
       "    </tr>\n",
       "    <tr>\n",
       "      <th>Date</th>\n",
       "      <th></th>\n",
       "      <th></th>\n",
       "      <th></th>\n",
       "      <th></th>\n",
       "      <th></th>\n",
       "      <th></th>\n",
       "    </tr>\n",
       "  </thead>\n",
       "  <tbody>\n",
       "    <tr>\n",
       "      <th>2018-01-02</th>\n",
       "      <td>42.540001</td>\n",
       "      <td>43.075001</td>\n",
       "      <td>42.314999</td>\n",
       "      <td>43.064999</td>\n",
       "      <td>40.670971</td>\n",
       "      <td>102223600</td>\n",
       "    </tr>\n",
       "    <tr>\n",
       "      <th>2018-01-03</th>\n",
       "      <td>43.132500</td>\n",
       "      <td>43.637501</td>\n",
       "      <td>42.990002</td>\n",
       "      <td>43.057499</td>\n",
       "      <td>40.663895</td>\n",
       "      <td>118071600</td>\n",
       "    </tr>\n",
       "    <tr>\n",
       "      <th>2018-01-04</th>\n",
       "      <td>43.134998</td>\n",
       "      <td>43.367500</td>\n",
       "      <td>43.020000</td>\n",
       "      <td>43.257500</td>\n",
       "      <td>40.852779</td>\n",
       "      <td>89738400</td>\n",
       "    </tr>\n",
       "    <tr>\n",
       "      <th>2018-01-05</th>\n",
       "      <td>43.360001</td>\n",
       "      <td>43.842499</td>\n",
       "      <td>43.262501</td>\n",
       "      <td>43.750000</td>\n",
       "      <td>41.317898</td>\n",
       "      <td>94640000</td>\n",
       "    </tr>\n",
       "    <tr>\n",
       "      <th>2018-01-08</th>\n",
       "      <td>43.587502</td>\n",
       "      <td>43.902500</td>\n",
       "      <td>43.482498</td>\n",
       "      <td>43.587502</td>\n",
       "      <td>41.164433</td>\n",
       "      <td>82271200</td>\n",
       "    </tr>\n",
       "    <tr>\n",
       "      <th>...</th>\n",
       "      <td>...</td>\n",
       "      <td>...</td>\n",
       "      <td>...</td>\n",
       "      <td>...</td>\n",
       "      <td>...</td>\n",
       "      <td>...</td>\n",
       "    </tr>\n",
       "    <tr>\n",
       "      <th>2022-12-23</th>\n",
       "      <td>130.919998</td>\n",
       "      <td>132.419998</td>\n",
       "      <td>129.639999</td>\n",
       "      <td>131.860001</td>\n",
       "      <td>130.959946</td>\n",
       "      <td>63814900</td>\n",
       "    </tr>\n",
       "    <tr>\n",
       "      <th>2022-12-27</th>\n",
       "      <td>131.380005</td>\n",
       "      <td>131.410004</td>\n",
       "      <td>128.720001</td>\n",
       "      <td>130.029999</td>\n",
       "      <td>129.142441</td>\n",
       "      <td>69007800</td>\n",
       "    </tr>\n",
       "    <tr>\n",
       "      <th>2022-12-28</th>\n",
       "      <td>129.669998</td>\n",
       "      <td>131.029999</td>\n",
       "      <td>125.870003</td>\n",
       "      <td>126.040001</td>\n",
       "      <td>125.179680</td>\n",
       "      <td>85438400</td>\n",
       "    </tr>\n",
       "    <tr>\n",
       "      <th>2022-12-29</th>\n",
       "      <td>127.989998</td>\n",
       "      <td>130.479996</td>\n",
       "      <td>127.730003</td>\n",
       "      <td>129.610001</td>\n",
       "      <td>128.725311</td>\n",
       "      <td>75703700</td>\n",
       "    </tr>\n",
       "    <tr>\n",
       "      <th>2022-12-30</th>\n",
       "      <td>128.410004</td>\n",
       "      <td>129.949997</td>\n",
       "      <td>127.430000</td>\n",
       "      <td>129.929993</td>\n",
       "      <td>129.043121</td>\n",
       "      <td>77034200</td>\n",
       "    </tr>\n",
       "  </tbody>\n",
       "</table>\n",
       "<p>1259 rows × 6 columns</p>\n",
       "</div>"
      ],
      "text/plain": [
       "                  Open        High         Low       Close   Adj Close  \\\n",
       "Date                                                                     \n",
       "2018-01-02   42.540001   43.075001   42.314999   43.064999   40.670971   \n",
       "2018-01-03   43.132500   43.637501   42.990002   43.057499   40.663895   \n",
       "2018-01-04   43.134998   43.367500   43.020000   43.257500   40.852779   \n",
       "2018-01-05   43.360001   43.842499   43.262501   43.750000   41.317898   \n",
       "2018-01-08   43.587502   43.902500   43.482498   43.587502   41.164433   \n",
       "...                ...         ...         ...         ...         ...   \n",
       "2022-12-23  130.919998  132.419998  129.639999  131.860001  130.959946   \n",
       "2022-12-27  131.380005  131.410004  128.720001  130.029999  129.142441   \n",
       "2022-12-28  129.669998  131.029999  125.870003  126.040001  125.179680   \n",
       "2022-12-29  127.989998  130.479996  127.730003  129.610001  128.725311   \n",
       "2022-12-30  128.410004  129.949997  127.430000  129.929993  129.043121   \n",
       "\n",
       "               Volume  \n",
       "Date                   \n",
       "2018-01-02  102223600  \n",
       "2018-01-03  118071600  \n",
       "2018-01-04   89738400  \n",
       "2018-01-05   94640000  \n",
       "2018-01-08   82271200  \n",
       "...               ...  \n",
       "2022-12-23   63814900  \n",
       "2022-12-27   69007800  \n",
       "2022-12-28   85438400  \n",
       "2022-12-29   75703700  \n",
       "2022-12-30   77034200  \n",
       "\n",
       "[1259 rows x 6 columns]"
      ]
     },
     "execution_count": 17,
     "metadata": {},
     "output_type": "execute_result"
    }
   ],
   "source": [
    "yf.download(\n",
    "    \"AAPL\",\n",
    "    start='2018-01-01',\n",
    "    end='2023-01-01',\n",
    "    interval='1d'\n",
    ")"
   ]
  },
  {
   "cell_type": "markdown",
   "metadata": {},
   "source": [
    "#### Retrieving the income statement from Yahoo Finnance"
   ]
  },
  {
   "cell_type": "markdown",
   "metadata": {},
   "source": [
    "I will retrieve the income statement data which include:\n",
    "\n",
    "* Total revenue\n",
    "* Gross Profit\n",
    "* Operating Income\n",
    "* Net income\n",
    "* Earning Per Share\n",
    "\n",
    "The revenue is calculated from 2020 to 2023"
   ]
  },
  {
   "cell_type": "markdown",
   "metadata": {},
   "source": [
    "Revenue (Sales): This shows how much money the company is generating from its core business activities."
   ]
  },
  {
   "cell_type": "code",
   "execution_count": 25,
   "metadata": {},
   "outputs": [
    {
     "name": "stdout",
     "output_type": "stream",
     "text": [
      "2023-09-30    383285000000.0\n",
      "2022-09-30    394328000000.0\n",
      "2021-09-30    365817000000.0\n",
      "2020-09-30    274515000000.0\n",
      "Name: Total Revenue, dtype: object\n"
     ]
    }
   ],
   "source": [
    "# Get the ticker symbol object\n",
    "ticker = yf.Ticker(\"AAPL\")\n",
    "\n",
    "# Get the income statement data\n",
    "income_statement = ticker.financials.loc['Total Revenue']\n",
    "\n",
    "print(income_statement)"
   ]
  },
  {
   "cell_type": "code",
   "execution_count": 26,
   "metadata": {},
   "outputs": [
    {
     "data": {
      "text/html": [
       "<div>\n",
       "<style scoped>\n",
       "    .dataframe tbody tr th:only-of-type {\n",
       "        vertical-align: middle;\n",
       "    }\n",
       "\n",
       "    .dataframe tbody tr th {\n",
       "        vertical-align: top;\n",
       "    }\n",
       "\n",
       "    .dataframe thead th {\n",
       "        text-align: right;\n",
       "    }\n",
       "</style>\n",
       "<table border=\"1\" class=\"dataframe\">\n",
       "  <thead>\n",
       "    <tr style=\"text-align: right;\">\n",
       "      <th></th>\n",
       "      <th>Total Revenue</th>\n",
       "    </tr>\n",
       "  </thead>\n",
       "  <tbody>\n",
       "    <tr>\n",
       "      <th>2023-09-30</th>\n",
       "      <td>383285000000.0</td>\n",
       "    </tr>\n",
       "    <tr>\n",
       "      <th>2022-09-30</th>\n",
       "      <td>394328000000.0</td>\n",
       "    </tr>\n",
       "    <tr>\n",
       "      <th>2021-09-30</th>\n",
       "      <td>365817000000.0</td>\n",
       "    </tr>\n",
       "    <tr>\n",
       "      <th>2020-09-30</th>\n",
       "      <td>274515000000.0</td>\n",
       "    </tr>\n",
       "  </tbody>\n",
       "</table>\n",
       "</div>"
      ],
      "text/plain": [
       "             Total Revenue\n",
       "2023-09-30  383285000000.0\n",
       "2022-09-30  394328000000.0\n",
       "2021-09-30  365817000000.0\n",
       "2020-09-30  274515000000.0"
      ]
     },
     "execution_count": 26,
     "metadata": {},
     "output_type": "execute_result"
    }
   ],
   "source": [
    "income_statement_df = income_statement.to_frame()\n",
    "\n",
    "income_statement_df"
   ]
  },
  {
   "cell_type": "markdown",
   "metadata": {},
   "source": [
    "Gross Profit: Calculated as revenue minus the cost of goods sold (COGS), it indicates the profitability of the company's core operations."
   ]
  },
  {
   "cell_type": "code",
   "execution_count": 36,
   "metadata": {},
   "outputs": [
    {
     "data": {
      "text/html": [
       "<div>\n",
       "<style scoped>\n",
       "    .dataframe tbody tr th:only-of-type {\n",
       "        vertical-align: middle;\n",
       "    }\n",
       "\n",
       "    .dataframe tbody tr th {\n",
       "        vertical-align: top;\n",
       "    }\n",
       "\n",
       "    .dataframe thead th {\n",
       "        text-align: right;\n",
       "    }\n",
       "</style>\n",
       "<table border=\"1\" class=\"dataframe\">\n",
       "  <thead>\n",
       "    <tr style=\"text-align: right;\">\n",
       "      <th></th>\n",
       "      <th>Gross Profit</th>\n",
       "    </tr>\n",
       "  </thead>\n",
       "  <tbody>\n",
       "    <tr>\n",
       "      <th>2023-09-30</th>\n",
       "      <td>169148000000.0</td>\n",
       "    </tr>\n",
       "    <tr>\n",
       "      <th>2022-09-30</th>\n",
       "      <td>170782000000.0</td>\n",
       "    </tr>\n",
       "    <tr>\n",
       "      <th>2021-09-30</th>\n",
       "      <td>152836000000.0</td>\n",
       "    </tr>\n",
       "    <tr>\n",
       "      <th>2020-09-30</th>\n",
       "      <td>104956000000.0</td>\n",
       "    </tr>\n",
       "  </tbody>\n",
       "</table>\n",
       "</div>"
      ],
      "text/plain": [
       "              Gross Profit\n",
       "2023-09-30  169148000000.0\n",
       "2022-09-30  170782000000.0\n",
       "2021-09-30  152836000000.0\n",
       "2020-09-30  104956000000.0"
      ]
     },
     "execution_count": 36,
     "metadata": {},
     "output_type": "execute_result"
    }
   ],
   "source": [
    "# Get the income statement data\n",
    "gross_profits = ticker.financials.loc['Gross Profit']\n",
    "\n",
    "# Convert to pandas DataFrame\n",
    "gross_profits_df = income_statement.to_frame()\n",
    "\n",
    "gross_profits_df"
   ]
  },
  {
   "cell_type": "markdown",
   "metadata": {},
   "source": [
    "Operating Income (Operating Profit): This is the profit after deducting operating expenses (such as salaries, rent, and utilities) from gross profit, showing how well the company is managing its operations."
   ]
  },
  {
   "cell_type": "code",
   "execution_count": 29,
   "metadata": {},
   "outputs": [
    {
     "data": {
      "text/html": [
       "<div>\n",
       "<style scoped>\n",
       "    .dataframe tbody tr th:only-of-type {\n",
       "        vertical-align: middle;\n",
       "    }\n",
       "\n",
       "    .dataframe tbody tr th {\n",
       "        vertical-align: top;\n",
       "    }\n",
       "\n",
       "    .dataframe thead th {\n",
       "        text-align: right;\n",
       "    }\n",
       "</style>\n",
       "<table border=\"1\" class=\"dataframe\">\n",
       "  <thead>\n",
       "    <tr style=\"text-align: right;\">\n",
       "      <th></th>\n",
       "      <th>Operating Income</th>\n",
       "    </tr>\n",
       "  </thead>\n",
       "  <tbody>\n",
       "    <tr>\n",
       "      <th>2023-09-30</th>\n",
       "      <td>114301000000.0</td>\n",
       "    </tr>\n",
       "    <tr>\n",
       "      <th>2022-09-30</th>\n",
       "      <td>119437000000.0</td>\n",
       "    </tr>\n",
       "    <tr>\n",
       "      <th>2021-09-30</th>\n",
       "      <td>108949000000.0</td>\n",
       "    </tr>\n",
       "    <tr>\n",
       "      <th>2020-09-30</th>\n",
       "      <td>66288000000.0</td>\n",
       "    </tr>\n",
       "  </tbody>\n",
       "</table>\n",
       "</div>"
      ],
      "text/plain": [
       "           Operating Income\n",
       "2023-09-30   114301000000.0\n",
       "2022-09-30   119437000000.0\n",
       "2021-09-30   108949000000.0\n",
       "2020-09-30    66288000000.0"
      ]
     },
     "execution_count": 29,
     "metadata": {},
     "output_type": "execute_result"
    }
   ],
   "source": [
    "operating_income = ticker.financials.loc['Operating Income']\n",
    "\n",
    "# Convert to pandas DataFrame\n",
    "operating_income_df = operating_income.to_frame()\n",
    "\n",
    "operating_income_df"
   ]
  },
  {
   "cell_type": "markdown",
   "metadata": {},
   "source": [
    "Net Income: Often referred to as the \"bottom line,\" net income is the profit after deducting all expenses, including taxes and interest. It represents what's left for shareholders after all costs are accounted for."
   ]
  },
  {
   "cell_type": "code",
   "execution_count": 30,
   "metadata": {},
   "outputs": [
    {
     "data": {
      "text/html": [
       "<div>\n",
       "<style scoped>\n",
       "    .dataframe tbody tr th:only-of-type {\n",
       "        vertical-align: middle;\n",
       "    }\n",
       "\n",
       "    .dataframe tbody tr th {\n",
       "        vertical-align: top;\n",
       "    }\n",
       "\n",
       "    .dataframe thead th {\n",
       "        text-align: right;\n",
       "    }\n",
       "</style>\n",
       "<table border=\"1\" class=\"dataframe\">\n",
       "  <thead>\n",
       "    <tr style=\"text-align: right;\">\n",
       "      <th></th>\n",
       "      <th>Net Income</th>\n",
       "    </tr>\n",
       "  </thead>\n",
       "  <tbody>\n",
       "    <tr>\n",
       "      <th>2023-09-30</th>\n",
       "      <td>96995000000.0</td>\n",
       "    </tr>\n",
       "    <tr>\n",
       "      <th>2022-09-30</th>\n",
       "      <td>99803000000.0</td>\n",
       "    </tr>\n",
       "    <tr>\n",
       "      <th>2021-09-30</th>\n",
       "      <td>94680000000.0</td>\n",
       "    </tr>\n",
       "    <tr>\n",
       "      <th>2020-09-30</th>\n",
       "      <td>57411000000.0</td>\n",
       "    </tr>\n",
       "  </tbody>\n",
       "</table>\n",
       "</div>"
      ],
      "text/plain": [
       "               Net Income\n",
       "2023-09-30  96995000000.0\n",
       "2022-09-30  99803000000.0\n",
       "2021-09-30  94680000000.0\n",
       "2020-09-30  57411000000.0"
      ]
     },
     "execution_count": 30,
     "metadata": {},
     "output_type": "execute_result"
    }
   ],
   "source": [
    "# Get the income statement data for Net Income\n",
    "net_income = ticker.financials.loc['Net Income']\n",
    "\n",
    "# Convert to pandas DataFrame\n",
    "net_income_df = net_income.to_frame()\n",
    "\n",
    "net_income_df"
   ]
  },
  {
   "cell_type": "markdown",
   "metadata": {},
   "source": [
    "Earnings Per Share (EPS): This is calculated by dividing the net income by the average number of outstanding shares. EPS is a key metric for profitability on a per-share basis."
   ]
  },
  {
   "cell_type": "code",
   "execution_count": 35,
   "metadata": {},
   "outputs": [
    {
     "data": {
      "text/html": [
       "<div>\n",
       "<style scoped>\n",
       "    .dataframe tbody tr th:only-of-type {\n",
       "        vertical-align: middle;\n",
       "    }\n",
       "\n",
       "    .dataframe tbody tr th {\n",
       "        vertical-align: top;\n",
       "    }\n",
       "\n",
       "    .dataframe thead th {\n",
       "        text-align: right;\n",
       "    }\n",
       "</style>\n",
       "<table border=\"1\" class=\"dataframe\">\n",
       "  <thead>\n",
       "    <tr style=\"text-align: right;\">\n",
       "      <th></th>\n",
       "      <th>Basic EPS</th>\n",
       "    </tr>\n",
       "  </thead>\n",
       "  <tbody>\n",
       "    <tr>\n",
       "      <th>2023-09-30</th>\n",
       "      <td>6.16</td>\n",
       "    </tr>\n",
       "    <tr>\n",
       "      <th>2022-09-30</th>\n",
       "      <td>6.15</td>\n",
       "    </tr>\n",
       "    <tr>\n",
       "      <th>2021-09-30</th>\n",
       "      <td>5.67</td>\n",
       "    </tr>\n",
       "    <tr>\n",
       "      <th>2020-09-30</th>\n",
       "      <td>3.31</td>\n",
       "    </tr>\n",
       "  </tbody>\n",
       "</table>\n",
       "</div>"
      ],
      "text/plain": [
       "           Basic EPS\n",
       "2023-09-30      6.16\n",
       "2022-09-30      6.15\n",
       "2021-09-30      5.67\n",
       "2020-09-30      3.31"
      ]
     },
     "execution_count": 35,
     "metadata": {},
     "output_type": "execute_result"
    }
   ],
   "source": [
    "# Extract EPS from financials data\n",
    "eps = ticker.financials.loc['Basic EPS']\n",
    "\n",
    "# Convert to pandas DataFrame\n",
    "eps_df = eps.to_frame()\n",
    "\n",
    "eps_df"
   ]
  },
  {
   "cell_type": "markdown",
   "metadata": {},
   "source": [
    "##### Summary of Income statement in tabular format"
   ]
  },
  {
   "cell_type": "code",
   "execution_count": 38,
   "metadata": {},
   "outputs": [
    {
     "data": {
      "text/html": [
       "<div>\n",
       "<style scoped>\n",
       "    .dataframe tbody tr th:only-of-type {\n",
       "        vertical-align: middle;\n",
       "    }\n",
       "\n",
       "    .dataframe tbody tr th {\n",
       "        vertical-align: top;\n",
       "    }\n",
       "\n",
       "    .dataframe thead th {\n",
       "        text-align: right;\n",
       "    }\n",
       "</style>\n",
       "<table border=\"1\" class=\"dataframe\">\n",
       "  <thead>\n",
       "    <tr style=\"text-align: right;\">\n",
       "      <th></th>\n",
       "      <th>Total Revenue</th>\n",
       "      <th>Gross Profit</th>\n",
       "      <th>Operating Income</th>\n",
       "      <th>Net Income</th>\n",
       "      <th>Earnings Per Share</th>\n",
       "    </tr>\n",
       "  </thead>\n",
       "  <tbody>\n",
       "    <tr>\n",
       "      <th>2023-09-30</th>\n",
       "      <td>169148000000.0</td>\n",
       "      <td>169148000000.0</td>\n",
       "      <td>114301000000.0</td>\n",
       "      <td>96995000000.0</td>\n",
       "      <td>6.16</td>\n",
       "    </tr>\n",
       "    <tr>\n",
       "      <th>2022-09-30</th>\n",
       "      <td>170782000000.0</td>\n",
       "      <td>170782000000.0</td>\n",
       "      <td>119437000000.0</td>\n",
       "      <td>99803000000.0</td>\n",
       "      <td>6.15</td>\n",
       "    </tr>\n",
       "    <tr>\n",
       "      <th>2021-09-30</th>\n",
       "      <td>152836000000.0</td>\n",
       "      <td>152836000000.0</td>\n",
       "      <td>108949000000.0</td>\n",
       "      <td>94680000000.0</td>\n",
       "      <td>5.67</td>\n",
       "    </tr>\n",
       "    <tr>\n",
       "      <th>2020-09-30</th>\n",
       "      <td>104956000000.0</td>\n",
       "      <td>104956000000.0</td>\n",
       "      <td>66288000000.0</td>\n",
       "      <td>57411000000.0</td>\n",
       "      <td>3.31</td>\n",
       "    </tr>\n",
       "  </tbody>\n",
       "</table>\n",
       "</div>"
      ],
      "text/plain": [
       "             Total Revenue    Gross Profit Operating Income     Net Income  \\\n",
       "2023-09-30  169148000000.0  169148000000.0   114301000000.0  96995000000.0   \n",
       "2022-09-30  170782000000.0  170782000000.0   119437000000.0  99803000000.0   \n",
       "2021-09-30  152836000000.0  152836000000.0   108949000000.0  94680000000.0   \n",
       "2020-09-30  104956000000.0  104956000000.0    66288000000.0  57411000000.0   \n",
       "\n",
       "           Earnings Per Share  \n",
       "2023-09-30               6.16  \n",
       "2022-09-30               6.15  \n",
       "2021-09-30               5.67  \n",
       "2020-09-30               3.31  "
      ]
     },
     "execution_count": 38,
     "metadata": {},
     "output_type": "execute_result"
    }
   ],
   "source": [
    "# Create a DataFrame with all the extracted metrics\n",
    "financial_metrics = pd.DataFrame({\n",
    "    'Total Revenue': income_statement,\n",
    "    'Gross Profit': gross_profits,\n",
    "    'Operating Income': operating_income,\n",
    "    'Net Income': net_income,\n",
    "    'Earnings Per Share': eps\n",
    "})\n",
    "\n",
    "financial_metrics"
   ]
  },
  {
   "cell_type": "markdown",
   "metadata": {},
   "source": [
    "##### Save it to CSV files"
   ]
  },
  {
   "cell_type": "code",
   "execution_count": 68,
   "metadata": {},
   "outputs": [
    {
     "name": "stdout",
     "output_type": "stream",
     "text": [
      "Data has been saved to apple_income_sheet.csv\n"
     ]
    }
   ],
   "source": [
    "financial_metrics.to_csv(\"apple_income_sheet.csv\", index=True)\n",
    "\n",
    "print(\"Data has been saved to apple_income_sheet.csv\")"
   ]
  },
  {
   "cell_type": "markdown",
   "metadata": {},
   "source": [
    "####  Retrieving the balance sheet from Yahoo Finnance"
   ]
  },
  {
   "cell_type": "markdown",
   "metadata": {},
   "source": [
    "I will retrieve the balance sheet data which include:\n",
    "\n",
    "* Total Assets\n",
    "* Current Assets\n",
    "* Non Current Assets\n",
    "* Current Liabilites\n",
    "* Non Current Liabilities\n",
    "* Common Stock Quity \n",
    "\n",
    "The data spans the years 2020 through 2023.\n",
    "The date is only available on 30th of September on each year"
   ]
  },
  {
   "cell_type": "code",
   "execution_count": 65,
   "metadata": {},
   "outputs": [],
   "source": [
    "#Get the balance sheet data\n",
    "balance_sheet = ticker.balance_sheet\n",
    "\n",
    "# Extract desired metrics from the balance sheet\n",
    "total_assets = balance_sheet.loc['Total Assets']\n",
    "current_assets = balance_sheet.loc['Current Assets']\n",
    "non_current_assets = total_assets - current_assets\n",
    "current_liabilities = balance_sheet.loc['Current Liabilities']\n",
    "non_current_liabilities = balance_sheet.loc['Total Non Current Liabilities Net Minority Interest']\n",
    "common_stock_equity = balance_sheet.loc['Common Stock Equity']\n",
    "\n",
    "# Create a DataFrame with all the extracted metrics\n",
    "balance_sheet_metrics = pd.DataFrame({\n",
    "    'Total Assets': total_assets,\n",
    "    'Current Assets': current_assets,\n",
    "    'Non Current Assets': non_current_assets,\n",
    "    'Current Liabilities': current_liabilities,\n",
    "    'Non-Current Liabilities': non_current_liabilities,\n",
    "    'Common Stock Equity': common_stock_equity\n",
    "})\n",
    "\n"
   ]
  },
  {
   "cell_type": "code",
   "execution_count": 66,
   "metadata": {},
   "outputs": [
    {
     "data": {
      "text/html": [
       "<div>\n",
       "<style scoped>\n",
       "    .dataframe tbody tr th:only-of-type {\n",
       "        vertical-align: middle;\n",
       "    }\n",
       "\n",
       "    .dataframe tbody tr th {\n",
       "        vertical-align: top;\n",
       "    }\n",
       "\n",
       "    .dataframe thead th {\n",
       "        text-align: right;\n",
       "    }\n",
       "</style>\n",
       "<table border=\"1\" class=\"dataframe\">\n",
       "  <thead>\n",
       "    <tr style=\"text-align: right;\">\n",
       "      <th></th>\n",
       "      <th>Total Assets</th>\n",
       "      <th>Current Assets</th>\n",
       "      <th>Non Current Assets</th>\n",
       "      <th>Current Liabilities</th>\n",
       "      <th>Non-Current Liabilities</th>\n",
       "      <th>Common Stock Equity</th>\n",
       "    </tr>\n",
       "  </thead>\n",
       "  <tbody>\n",
       "    <tr>\n",
       "      <th>2023-09-30</th>\n",
       "      <td>352583000000.0</td>\n",
       "      <td>143566000000.0</td>\n",
       "      <td>209017000000.0</td>\n",
       "      <td>145308000000.0</td>\n",
       "      <td>145129000000.0</td>\n",
       "      <td>62146000000.0</td>\n",
       "    </tr>\n",
       "    <tr>\n",
       "      <th>2022-09-30</th>\n",
       "      <td>352755000000.0</td>\n",
       "      <td>135405000000.0</td>\n",
       "      <td>217350000000.0</td>\n",
       "      <td>153982000000.0</td>\n",
       "      <td>148101000000.0</td>\n",
       "      <td>50672000000.0</td>\n",
       "    </tr>\n",
       "    <tr>\n",
       "      <th>2021-09-30</th>\n",
       "      <td>351002000000.0</td>\n",
       "      <td>134836000000.0</td>\n",
       "      <td>216166000000.0</td>\n",
       "      <td>125481000000.0</td>\n",
       "      <td>162431000000.0</td>\n",
       "      <td>63090000000.0</td>\n",
       "    </tr>\n",
       "    <tr>\n",
       "      <th>2020-09-30</th>\n",
       "      <td>323888000000.0</td>\n",
       "      <td>143713000000.0</td>\n",
       "      <td>180175000000.0</td>\n",
       "      <td>105392000000.0</td>\n",
       "      <td>153157000000.0</td>\n",
       "      <td>65339000000.0</td>\n",
       "    </tr>\n",
       "    <tr>\n",
       "      <th>2019-09-30</th>\n",
       "      <td>NaN</td>\n",
       "      <td>NaN</td>\n",
       "      <td>NaN</td>\n",
       "      <td>NaN</td>\n",
       "      <td>NaN</td>\n",
       "      <td>NaN</td>\n",
       "    </tr>\n",
       "  </tbody>\n",
       "</table>\n",
       "</div>"
      ],
      "text/plain": [
       "              Total Assets  Current Assets Non Current Assets  \\\n",
       "2023-09-30  352583000000.0  143566000000.0     209017000000.0   \n",
       "2022-09-30  352755000000.0  135405000000.0     217350000000.0   \n",
       "2021-09-30  351002000000.0  134836000000.0     216166000000.0   \n",
       "2020-09-30  323888000000.0  143713000000.0     180175000000.0   \n",
       "2019-09-30             NaN             NaN                NaN   \n",
       "\n",
       "           Current Liabilities Non-Current Liabilities Common Stock Equity  \n",
       "2023-09-30      145308000000.0          145129000000.0       62146000000.0  \n",
       "2022-09-30      153982000000.0          148101000000.0       50672000000.0  \n",
       "2021-09-30      125481000000.0          162431000000.0       63090000000.0  \n",
       "2020-09-30      105392000000.0          153157000000.0       65339000000.0  \n",
       "2019-09-30                 NaN                     NaN                 NaN  "
      ]
     },
     "execution_count": 66,
     "metadata": {},
     "output_type": "execute_result"
    }
   ],
   "source": [
    "balance_sheet_metrics"
   ]
  },
  {
   "cell_type": "markdown",
   "metadata": {},
   "source": [
    "I will drop the column 2019 because it contain not available data "
   ]
  },
  {
   "cell_type": "markdown",
   "metadata": {},
   "source": [
    "Total Assets: \n",
    "Investors look at total assets to gauge the overall size and resource base of the company.\n",
    "\n",
    "Current Assets: \n",
    "Current assets indicate the company’s short-term liquidity and ability to cover its short-term obligations.\n",
    "\n",
    "Non-Current Assets: \n",
    "Non-current assets show the company’s long-term investments and potential for future growth and profitability.\n",
    "\n",
    "Current Liabilities: \n",
    "Current liabilities reveal the company’s short-term financial obligations and liquidity needs.\n",
    "\n",
    "Non-Current Liabilities: \n",
    "Non-current liabilities indicate the company’s long-term debt and financial commitments.\n",
    "\n",
    "Common Stock Equity: \n",
    "Common stock equity represents the shareholders' ownership interest and residual claim on assets after liabilities are paid."
   ]
  },
  {
   "cell_type": "markdown",
   "metadata": {},
   "source": [
    "##### Save it to CSV Files"
   ]
  },
  {
   "cell_type": "code",
   "execution_count": 67,
   "metadata": {},
   "outputs": [
    {
     "name": "stdout",
     "output_type": "stream",
     "text": [
      "Data has been saved to apple_balance_sheet.csv\n"
     ]
    }
   ],
   "source": [
    "balance_sheet_metrics.to_csv(\"apple_balance_sheet.csv\", index=True)\n",
    "\n",
    "print(\"Data has been saved to apple_balance_sheet.csv\")"
   ]
  },
  {
   "cell_type": "markdown",
   "metadata": {},
   "source": [
    "#### Cashflow"
   ]
  },
  {
   "cell_type": "markdown",
   "metadata": {},
   "source": [
    "I will retrieve the cashflow statement data which include:\n",
    "\n",
    "* Operating Cashflow\n",
    "* Investing Cashflow\n",
    "* Financing Cashflow\n",
    "* Free Cashflow\n",
    "* Capital Expenditure \n",
    "\n",
    "The data spans the years 2020 through 2023.\n",
    "The date is only available on 30th of September on each year"
   ]
  },
  {
   "cell_type": "markdown",
   "metadata": {},
   "source": []
  },
  {
   "cell_type": "code",
   "execution_count": 69,
   "metadata": {},
   "outputs": [],
   "source": [
    "# Get the cash flow statement data\n",
    "cashflow_statement = ticker.cashflow"
   ]
  },
  {
   "cell_type": "code",
   "execution_count": 71,
   "metadata": {},
   "outputs": [],
   "source": [
    "# Extract desired metrics from the cash flow statement\n",
    "operating_cashflow = cashflow_statement.loc['Operating Cash Flow']\n",
    "investing_cashflow = cashflow_statement.loc['Investing Cash Flow']\n",
    "financing_cashflow = cashflow_statement.loc['Financing Cash Flow']\n",
    "free_cashflow = cashflow_statement.loc['Free Cash Flow']\n",
    "capital_expenditure = cashflow_statement.loc['Capital Expenditure']\n",
    "\n",
    "# Create a DataFrame with all the extracted metrics\n",
    "cashflow_metrics = pd.DataFrame({\n",
    "    'Operating Cashflow': operating_cashflow,\n",
    "    'Investing Cashflow': investing_cashflow,\n",
    "    'Financing Cashflow': financing_cashflow,\n",
    "    'Free Cashflow': free_cashflow,\n",
    "    'Capital Expenditure': capital_expenditure\n",
    "})"
   ]
  },
  {
   "cell_type": "code",
   "execution_count": 72,
   "metadata": {},
   "outputs": [
    {
     "data": {
      "text/html": [
       "<div>\n",
       "<style scoped>\n",
       "    .dataframe tbody tr th:only-of-type {\n",
       "        vertical-align: middle;\n",
       "    }\n",
       "\n",
       "    .dataframe tbody tr th {\n",
       "        vertical-align: top;\n",
       "    }\n",
       "\n",
       "    .dataframe thead th {\n",
       "        text-align: right;\n",
       "    }\n",
       "</style>\n",
       "<table border=\"1\" class=\"dataframe\">\n",
       "  <thead>\n",
       "    <tr style=\"text-align: right;\">\n",
       "      <th></th>\n",
       "      <th>Operating Cashflow</th>\n",
       "      <th>Investing Cashflow</th>\n",
       "      <th>Financing Cashflow</th>\n",
       "      <th>Free Cashflow</th>\n",
       "      <th>Capital Expenditure</th>\n",
       "    </tr>\n",
       "  </thead>\n",
       "  <tbody>\n",
       "    <tr>\n",
       "      <th>2023-09-30</th>\n",
       "      <td>110543000000.0</td>\n",
       "      <td>3705000000.0</td>\n",
       "      <td>-108488000000.0</td>\n",
       "      <td>99584000000.0</td>\n",
       "      <td>-10959000000.0</td>\n",
       "    </tr>\n",
       "    <tr>\n",
       "      <th>2022-09-30</th>\n",
       "      <td>122151000000.0</td>\n",
       "      <td>-22354000000.0</td>\n",
       "      <td>-110749000000.0</td>\n",
       "      <td>111443000000.0</td>\n",
       "      <td>-10708000000.0</td>\n",
       "    </tr>\n",
       "    <tr>\n",
       "      <th>2021-09-30</th>\n",
       "      <td>104038000000.0</td>\n",
       "      <td>-14545000000.0</td>\n",
       "      <td>-93353000000.0</td>\n",
       "      <td>92953000000.0</td>\n",
       "      <td>-11085000000.0</td>\n",
       "    </tr>\n",
       "    <tr>\n",
       "      <th>2020-09-30</th>\n",
       "      <td>80674000000.0</td>\n",
       "      <td>-4289000000.0</td>\n",
       "      <td>-86820000000.0</td>\n",
       "      <td>73365000000.0</td>\n",
       "      <td>-7309000000.0</td>\n",
       "    </tr>\n",
       "    <tr>\n",
       "      <th>2019-09-30</th>\n",
       "      <td>NaN</td>\n",
       "      <td>NaN</td>\n",
       "      <td>NaN</td>\n",
       "      <td>NaN</td>\n",
       "      <td>NaN</td>\n",
       "    </tr>\n",
       "  </tbody>\n",
       "</table>\n",
       "</div>"
      ],
      "text/plain": [
       "           Operating Cashflow Investing Cashflow Financing Cashflow  \\\n",
       "2023-09-30     110543000000.0       3705000000.0    -108488000000.0   \n",
       "2022-09-30     122151000000.0     -22354000000.0    -110749000000.0   \n",
       "2021-09-30     104038000000.0     -14545000000.0     -93353000000.0   \n",
       "2020-09-30      80674000000.0      -4289000000.0     -86820000000.0   \n",
       "2019-09-30                NaN                NaN                NaN   \n",
       "\n",
       "             Free Cashflow Capital Expenditure  \n",
       "2023-09-30   99584000000.0      -10959000000.0  \n",
       "2022-09-30  111443000000.0      -10708000000.0  \n",
       "2021-09-30   92953000000.0      -11085000000.0  \n",
       "2020-09-30   73365000000.0       -7309000000.0  \n",
       "2019-09-30             NaN                 NaN  "
      ]
     },
     "execution_count": 72,
     "metadata": {},
     "output_type": "execute_result"
    }
   ],
   "source": [
    "cashflow_metrics"
   ]
  },
  {
   "cell_type": "code",
   "execution_count": 73,
   "metadata": {},
   "outputs": [
    {
     "name": "stdout",
     "output_type": "stream",
     "text": [
      "Data has been saved to apple_cashflow_sheet.csv\n"
     ]
    }
   ],
   "source": [
    "cashflow_metrics.to_csv(\"apple_cashflow_sheet.csv\", index=True)\n",
    "\n",
    "print(\"Data has been saved to apple_cashflow_sheet.csv\")"
   ]
  },
  {
   "cell_type": "code",
   "execution_count": null,
   "metadata": {},
   "outputs": [],
   "source": []
  }
 ],
 "metadata": {
  "kernelspec": {
   "display_name": "Python 3",
   "language": "python",
   "name": "python3"
  },
  "language_info": {
   "codemirror_mode": {
    "name": "ipython",
    "version": 3
   },
   "file_extension": ".py",
   "mimetype": "text/x-python",
   "name": "python",
   "nbconvert_exporter": "python",
   "pygments_lexer": "ipython3",
   "version": "3.11.4"
  }
 },
 "nbformat": 4,
 "nbformat_minor": 2
}
